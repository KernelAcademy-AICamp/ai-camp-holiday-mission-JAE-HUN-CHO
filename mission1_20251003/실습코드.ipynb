{
 "cells": [
  {
   "cell_type": "markdown",
   "id": "d38113c0",
   "metadata": {},
   "source": [
    "# 미션 1: 야놀자 리뷰 요약\n",
    "\n",
    "## 🎯 학습 목표\n",
    "\n",
    "이 미션에서는 야놀자 숙박 리뷰 데이터를 활용하여 리뷰를 요약하는 AI 서비스를 개발합니다.\n",
    "\n",
    "### 주요 학습 내용\n",
    "- LLM을 활용한 텍스트 요약\n",
    "- 프롬프트 엔지니어링 기초\n",
    "- 리뷰 데이터 전처리 및 분석\n",
    "\n",
    "## 📝 실습 내용\n",
    "\n",
    "### 구현 기능\n",
    "- 야놀자 리뷰 데이터 수집/로드\n",
    "- 리뷰 데이터 전처리\n",
    "- LLM을 활용한 리뷰 요약\n",
    "- 요약 결과 평가\n",
    "\n",
    "\n",
    "### LLM 모델\n",
    "- gpt-3.5-turbo"
   ]
  },
  {
   "cell_type": "markdown",
   "id": "5c0cea5e",
   "metadata": {},
   "source": [
    "## 라이브러리 로드"
   ]
  },
  {
   "cell_type": "code",
   "execution_count": 1,
   "id": "6a0ef9e2",
   "metadata": {},
   "outputs": [
    {
     "name": "stderr",
     "output_type": "stream",
     "text": [
      "/home/user/Desktop/Camp/ai-camp-holiday-mission-JAE-HUN-CHO/.venv/lib/python3.13/site-packages/tqdm/auto.py:21: TqdmWarning: IProgress not found. Please update jupyter and ipywidgets. See https://ipywidgets.readthedocs.io/en/stable/user_install.html\n",
      "  from .autonotebook import tqdm as notebook_tqdm\n"
     ]
    }
   ],
   "source": [
    "import json\n",
    "import sys\n",
    "import time\n",
    "import os\n",
    "from tqdm import tqdm\n",
    "\n",
    "# Crawling\n",
    "from bs4 import BeautifulSoup\n",
    "from selenium import webdriver\n",
    "\n",
    "# 날짜 관련 데이터 전처리\n",
    "import datetime\n",
    "from dateutil import parser\n",
    "\n",
    "# LLM\n",
    "from dotenv import load_dotenv\n",
    "from openai import OpenAI\n",
    "\n",
    "# 데모\n",
    "import gradio as gr"
   ]
  },
  {
   "cell_type": "markdown",
   "id": "346fd2a2",
   "metadata": {},
   "source": [
    "## 야놀자 리뷰 데이터 수집/로드"
   ]
  },
  {
   "cell_type": "code",
   "execution_count": null,
   "id": "1ddae530",
   "metadata": {},
   "outputs": [],
   "source": [
    "# 야놀자 리뷰 Crawling 함수\n",
    "def crawl_yanolja_reviews(name, url):\n",
    "    os.makedirs('./res', exist_ok=True)\n",
    "    \n",
    "    review_list = []\n",
    "    driver = webdriver.Chrome()\n",
    "    driver.get(url)\n",
    "\n",
    "    time.sleep(3)\n",
    "\n",
    "    scroll_count = 20\n",
    "    for i in range(scroll_count):\n",
    "        driver.execute_script('window.scrollTo(0, document.body.scrollHeight);')\n",
    "        time.sleep(2)\n",
    "\n",
    "    # Crawling\n",
    "    html = driver.page_source\n",
    "    soup = BeautifulSoup(html, 'html.parser')\n",
    "    review_containers = soup.select('#__next > section > div > div.css-1js0bc8 > div > div > div')\n",
    "    review_date = soup.select('#__next > section > div > div.css-1js0bc8 > div > div > div > div.css-1toaz2b > div > div.css-1ivchjf')\n",
    "\n",
    "    # Dictionary 형태로 저장\n",
    "    for i in range(len(review_containers)):\n",
    "        review_text = review_containers[i].find('p', class_='content-text').text\n",
    "        review_stars = review_containers[i].select('path[fill=\"currentColor\"]')\n",
    "        star_cnt = sum(1 for star in review_stars if not star.has_attr('fill-rule'))\n",
    "        date = review_date[i].text\n",
    "\n",
    "        review_dict = {\n",
    "            'review': review_text,\n",
    "            'stars': star_cnt,\n",
    "            'date': date\n",
    "        }\n",
    "\n",
    "        review_list.append(review_dict)\n",
    "\n",
    "    with open(f'./res/{name}.json', 'w') as f:\n",
    "        json.dump(review_list, f, indent=4, ensure_ascii=False)\n"
   ]
  },
  {
   "cell_type": "code",
   "execution_count": 3,
   "id": "2145ef09",
   "metadata": {},
   "outputs": [],
   "source": [
    "# Crawling\n",
    "review_name_url_dict_list = [\n",
    "    ## 나인트리 인사동\n",
    "    {\"name\" : 'reviews', 'url' : 'https://nol.yanolja.com/reviews/domestic/1000102261?sort=HOST_CHOICE'},\n",
    "    ## 나인트리 판교\n",
    "    {\"name\" : 'ninetree_pangyo', 'url' : 'https://nol.yanolja.com/reviews/domestic/1000113873?sort=HOST_CHOICE'},\n",
    "    ## 나인트리 용산\n",
    "    {\"name\" : 'ninetree_yongsan', 'url' : 'https://nol.yanolja.com/reviews/domestic/10048873?sort=HOST_CHOICE'},\n",
    "]\n",
    "\n",
    "for review_name_url_dict in review_name_url_dict_list:\n",
    "    crawl_yanolja_reviews(\n",
    "        name=review_name_url_dict['name'], \n",
    "        url=review_name_url_dict['url']\n",
    "    )"
   ]
  },
  {
   "cell_type": "code",
   "execution_count": 4,
   "id": "94804da1",
   "metadata": {},
   "outputs": [
    {
     "data": {
      "text/plain": [
       "[{'review': '걸어디니는 거리에 볼수있는곳이 많아 좋았어요\\n깨끗하고 공기도 쾌적하고 조계사뷰도 좋았습니다\\n서울에서 대중교통이용하며 다니기 편한 숙소입니다',\n",
       "  'stars': 5,\n",
       "  'date': '4일 전'},\n",
       " {'review': '에어컨 사용이 쎄서 그런가 건조한거 빼고는 전반적으로 서비스 좋았습니다',\n",
       "  'stars': 4,\n",
       "  'date': '2025.09.25'},\n",
       " {'review': '깔끔하고 위치가 좋아요', 'stars': 5, 'date': '2025.09.22'},\n",
       " {'review': '조식도 맛있고 직원분들도 친절하시고 만족합니다.', 'stars': 5, 'date': '2025.09.21'},\n",
       " {'review': '깨끗하고 친절하고 좋습니다', 'stars': 5, 'date': '2025.09.08'},\n",
       " {'review': '좋았습니다좋았습니다', 'stars': 5, 'date': '2025.09.05'},\n",
       " {'review': '깔끔하고 위치 좋음', 'stars': 5, 'date': '2025.09.05'},\n",
       " {'review': '방과 침구는 깨끗하고 조명도 포근해서 좋았어요', 'stars': 5, 'date': '2025.09.03'},\n",
       " {'review': '좋습니다. 주차비가 비싼건 아쉽습니다.', 'stars': 4, 'date': '2025.09.02'},\n",
       " {'review': '잘 이용했습니다~~', 'stars': 5, 'date': '2025.08.30'}]"
      ]
     },
     "execution_count": 4,
     "metadata": {},
     "output_type": "execute_result"
    }
   ],
   "source": [
    "with open('./res/reviews.json', 'r') as f:\n",
    "    review_list = json.load(f)\n",
    "\n",
    "review_list[:10]"
   ]
  },
  {
   "cell_type": "markdown",
   "id": "4fd560c9",
   "metadata": {},
   "source": [
    "## 리뷰 데이터 전처리"
   ]
  },
  {
   "cell_type": "code",
   "execution_count": 5,
   "id": "563d1497",
   "metadata": {},
   "outputs": [],
   "source": [
    "# 리뷰 데이터 전처리\n",
    "def preprocess_reviews(path='./res/reviews.json'):\n",
    "    # Json 파일 로드\n",
    "    with open(path, 'r', encoding='utf-8') as f:\n",
    "        review_list = json.load(f)\n",
    "\n",
    "    reviews_good, reviews_bad = [], []\n",
    "\n",
    "    # 6 개월 이전 데이터 필터링\n",
    "    current_date = datetime.datetime.now()\n",
    "    data_boundary = current_date - datetime.timedelta(days=30*6)\n",
    "    filtered_cnt = 0\n",
    "\n",
    "    # Crawling된 리뷰 데이터 기반 전처리\n",
    "    for r in review_list: \n",
    "        review_date_str = r['date']\n",
    "        try:\n",
    "            review_date = parser.parse(review_date_str)\n",
    "        except (ValueError, TypeError):\n",
    "            review_date = current_date\n",
    "\n",
    "        # 날짜 필터링\n",
    "        if review_date < data_boundary:\n",
    "            continue\n",
    "        \n",
    "        if r['stars'] == 5:\n",
    "            reviews_good.append('[REVIEW_START]' + r['review'] + '[REVIEW_END]')\n",
    "        else:\n",
    "            reviews_bad.append('[REVIEW_START]' + r['review'] + '[REVIEW_END]')\n",
    "    reviews_good_text = '\\n'.join(reviews_good)\n",
    "    reviews_bad_text = '\\n'.join(reviews_bad)\n",
    "    return reviews_good_text, reviews_bad_text\n"
   ]
  },
  {
   "cell_type": "code",
   "execution_count": 6,
   "id": "91198f9d",
   "metadata": {},
   "outputs": [
    {
     "name": "stdout",
     "output_type": "stream",
     "text": [
      "[REVIEW_START]걸어디니는 거리에 볼수있는곳이 많아 좋았어요\n",
      "깨끗하고 공기도 쾌적하고 조계사뷰도 좋았습니다\n",
      "서울에서 대중교통이용하며 다니기 편한 숙소입니다[REVIEW_END]\n",
      "[REVIEW_START]깔끔하고 위치가 좋아요[REVIEW_END]\n",
      "[REVIEW_START]조식도 맛있고 직원분들도 친절하시고 만족합니다.[REVIEW_END]\n",
      "[REVIEW_START]깨끗하고 친절하고 좋습니다[REVIEW_END]\n",
      "[REVIEW_START]좋았습니다좋았습니다[REVIEW_END]\n",
      "[REVIEW_START]깔끔하고 위치 좋음[REVIEW_END]\n",
      "[REVIEW_START]방과 침구는 깨끗하고 조명도 포근해서 좋았어요[REVIEW_END]\n",
      "[REVIEW_START]잘 이용했습니다~~[REVIEW_END]\n",
      "[REVIEW_START]역시실망시키질않네요 ㅎㅎ깨끗하고 궁근처에서는 가성비와 시설 모든면이좋은듯합니다[REVIEW_END]\n",
      "[REVIEW_START]잘 쉬다갑니다 좋아요[REVIEW_END]\n",
      "[REVIEW_START]그냥 최고입니다\n",
      "층수가 높으면 조계사가 잘 보였을텐데 아쉬움이 남더군요[REVIEW_END]\n",
      "[REVIEW_START]아주 좋았습니다! 뷰는 도시뷰라 어쩔수 없지만..청와대 경복궁 조계사가 보여요![REVIEW_END]\n",
      "[REVIEW_START]위치도 너무 좋고 시설이 깔끔해서 좋았어요~\n",
      "우선 침대랑 샤워실,화장실이 유리로 되어있지 않고 따로 구분되어 있어서 좋았어요~\n",
      "저희가 더위를 잘타는데 에어컨도 빵빵해서 중간에 더워서 일어날일 없이 푹 자서 좋았어요😆\n",
      "다음에도 인사동 올일 있다면 다시 오고 싶은 곳이에요~[REVIEW_END]\n",
      "[REVIEW_START]깔끔하고 방음이 좋습니다. 채광도 좋았습니다!\n",
      "다시 방문할 의향이 있습니다.[REVIEW_END]\n",
      "[REVIEW_START]좋아요 야경도 좋고 접근성도 좋았어요[REVIEW_END]\n",
      "[REVIEW_START]위치 최고, 깨끗한 시설, 친절한 서비스, 약간의 방음 아쉬움[REVIEW_END]\n",
      "[REVIEW_START]청소상태가 좋고 전반적으로 쾌적하게 지내다 갑니다[REVIEW_END]\n",
      "[REVIEW_START]뷰가 일단 너무 좋았고 시설도 깨끗하고 좋았습니다 재방문 의사 100%[REVIEW_END]\n",
      "[REVIEW_START]숙소가 깨끗하고 위치가 좋아요[REVIEW_END]\n",
      "[REVIEW_START]역시 예쁘고 좋습니다[REVIEW_END]\n",
      "[REVIEW_START]나인트리 인사동은 서울 오면 항상 머물고싶은 호텔이에요 위치, 시설, 서비스 모든게 완벽합니다👍🏻[REVIEW_END]\n",
      "[REVIEW_START]ㅎㅎㅎㅎㅎㅎㅎㅎㅎㅎㅎㅎㅎㅎㅎㅎㅎㅎ방음이 잘 안돼서 시끄러워 잠을 못 잤어요 ㅜ[REVIEW_END]\n",
      "[REVIEW_START]잘쉬었다 왔습니다 모든 만족스럽네요[REVIEW_END]\n",
      "[REVIEW_START]시설도 좋고 깨끗하고 다 좋았습니다.[REVIEW_END]\n",
      "[REVIEW_START]푹 쉬다 갑니다!!![REVIEW_END]\n",
      "[REVIEW_START]여윽시 판교가 최고여[REVIEW_END]\n",
      "[REVIEW_START]인사동 접근성 좋아요[REVIEW_END]\n",
      "[REVIEW_START]잘 쉬다가 갑니다.ㅔ[REVIEW_END]\n",
      "[REVIEW_START]북촌 인사동 접근성 좋아요[REVIEW_END]\n",
      "[REVIEW_START]인사동 접근성 좋아요[REVIEW_END]\n",
      "[REVIEW_START]꽤나 괜찮았습니다. \n",
      "다만 가격대는 조금 있네요[REVIEW_END]\n",
      "[REVIEW_START]트리플이라서 1인 1침대 편하게 쓰고왔어요~[REVIEW_END]\n",
      "[REVIEW_START]침구류도 깨끗하고 전체적으로 깔끔하고 다 좋았어요![REVIEW_END]\n",
      "[REVIEW_START]수건도 많고 원래 더블룸이었는데 패밀리룸으로 업그레이드 해줬어요!ㅎㅎ정말 좋았습니다[REVIEW_END]\n",
      "[REVIEW_START]체크인해주신 직원분의 친절함과 방에서 보여진 전망이 너무 좋아서 몇시간뿐이었지만 너무 잘 쉬다갑니다![REVIEW_END]\n",
      "[REVIEW_START]너무 훌륭하고 잘 쉬다가 갑니다^^[REVIEW_END]\n",
      "[REVIEW_START]침대가 좋고 깨끗해요.[REVIEW_END]\n",
      "[REVIEW_START]인사동 등 관광지 접근성이 우수합니다[REVIEW_END]\n",
      "[REVIEW_START]여행와서 숙박했는데 청결허고 좋아요[REVIEW_END]\n",
      "[REVIEW_START]잘쉬었습니다 친절하고 편합니다[REVIEW_END]\n",
      "[REVIEW_START]인사동에서 놀면서 편리하게 이용할 수 있습니다.[REVIEW_END]\n",
      "[REVIEW_START]조용하고 쾌적합니다[REVIEW_END]\n",
      "[REVIEW_START]깨끗하고 좋아요 친절하구요[REVIEW_END]\n",
      "[REVIEW_START]조용히 편안하게 잘 쉬다가 갑니다\n",
      "감사합니다^^[REVIEW_END]\n",
      "[REVIEW_START]조용히 편안하게 잘 쉬다가 갑니다\n",
      "감사합니다^^[REVIEW_END]\n",
      "[REVIEW_START]깔끔하고 생각보다 넓어서 더 쾌적했습니다 근처에 다른 볼일이 있어서 스테이상품을 이용했지만 다음엔 아예 숙박으로 놀러가고싶네요![REVIEW_END]\n",
      "[REVIEW_START]너무 잘 쉬다왔습니다 친절하고 주차편해요[REVIEW_END]\n",
      "[REVIEW_START]위치가 너무 좋었어요. 편리한 교통에 서울의 아름다움을 품고 있는 명소로의 근접성이 훌륭해요. 포근해서  꿀잠잤던 참구류, 향기가 마음에 들었던 어메너티, 프런트 직원분들의 기분좋은 거리감을 느끼게 해주었던 응대. 이번 서울 여행의 즐거움을 업그레이드 해 준 숙소였어요.[REVIEW_END]\n",
      "[REVIEW_START]깨끗하고 편안했습니다.[REVIEW_END]\n",
      "[REVIEW_START]좋아요 좋아요 좋아요 좋아요[REVIEW_END]\n",
      "[REVIEW_START]좋았어요 \n",
      "가족과 즐거운 시간 보냈습니다[REVIEW_END]\n",
      "[REVIEW_START]인사동 접근성 좋고 룸컨디션 좋아요.[REVIEW_END]\n",
      "[REVIEW_START]처음 방문하는곳인데 방음도 잘되고 어메니티도 훌륭 청결도와 직원 친절 모두 좋네요 접근성이 무엇보다 좋아요 ㅎㅎㅎ 😆[REVIEW_END]\n",
      "[REVIEW_START]객실이 깨끗하고 가족끼리 이용하기 좋아요. \n",
      "그리고 위치가 정말 좋아요[REVIEW_END]\n",
      "[REVIEW_START]잘 쉬었습니다 깨끗합니다[REVIEW_END]\n",
      "[REVIEW_START]깔끔한 숙소와 인사동 인접이네요[REVIEW_END]\n",
      "[REVIEW_START]찬철하고 깨끗합니다.[REVIEW_END]\n"
     ]
    }
   ],
   "source": [
    "reviews, _ = preprocess_reviews()\n",
    "print(reviews)"
   ]
  },
  {
   "cell_type": "markdown",
   "id": "d9fa71e9",
   "metadata": {},
   "source": [
    "## LLM을 활용한 리뷰 요약"
   ]
  },
  {
   "cell_type": "code",
   "execution_count": null,
   "id": "3b883d7a",
   "metadata": {},
   "outputs": [],
   "source": [
    "# LLM 환경 변수 및 OpenAI 로드\n",
    "load_dotenv()\n",
    "\n",
    "OPENAI_API_KEY = os.getenv(\"OPENAI_API_KEY\")\n",
    "\n",
    "client = OpenAI(\n",
    "    api_key=OPENAI_API_KEY,\n",
    ")"
   ]
  },
  {
   "cell_type": "code",
   "execution_count": 9,
   "id": "c699a00a",
   "metadata": {},
   "outputs": [],
   "source": [
    "PROMPT_BASELINE = f\"\"\"아래 숙소 리뷰에 대해 5 문장 내로 요약해줘\"\"\""
   ]
  },
  {
   "cell_type": "code",
   "execution_count": 10,
   "id": "db19555a",
   "metadata": {},
   "outputs": [],
   "source": [
    "# 리뷰 요약\n",
    "def summarize(reviews, prompt, temperature=0.0, model='gpt-3.5-turbo'):\n",
    "    prompt = prompt + '\\n\\n' + reviews\n",
    "\n",
    "    completion = client.chat.completions.create(\n",
    "        model=model,\n",
    "        messages=[{'role': 'user', \"content\" : prompt}],\n",
    "        temperature=temperature\n",
    "    )\n",
    "    return completion"
   ]
  },
  {
   "cell_type": "code",
   "execution_count": 11,
   "id": "bd9c7d1a",
   "metadata": {},
   "outputs": [
    {
     "name": "stdout",
     "output_type": "stream",
     "text": [
      "다양한 관광지와 가까운 거리에 위치한 깨끗하고 쾌적한 숙소로, 대중교통 이용이 편리하며 조계사 뷰도 좋았다. 위치가 좋고 조식도 맛있으며 직원들도 친절하고 만족스러웠다. 방과 침구가 깨끗하고 조명이 포근하며, 숙소는 깔끔하고 위치가 좋았다. 숙소는 깨끗하고 친절하며, 뷰가 좋아 재방문 의사가 100%이다.\n"
     ]
    }
   ],
   "source": [
    "print(summarize(reviews, PROMPT_BASELINE).choices[0].message.content)"
   ]
  },
  {
   "cell_type": "markdown",
   "id": "4878fc76",
   "metadata": {},
   "source": [
    "## 요약 결과 평가"
   ]
  },
  {
   "cell_type": "code",
   "execution_count": 12,
   "id": "9cd7424c",
   "metadata": {},
   "outputs": [],
   "source": [
    "# 리뷰 데이터 기반 평가 함수\n",
    "## 실제 요약 및 생성된 요약 비교\n",
    "def pairwise_eval(reviews, answer_a, answer_b):\n",
    "    eval_prompt =f\"\"\"[System]\n",
    "Please act as an impartial judge and evaluate the quality of the Korean summaries provided by two\n",
    "AI assistants to the set of user reviews on accommodations displayed below. You should choose the assistant that\n",
    "follows the user’s instructions and answers the user’s question better. Your evaluation\n",
    "should consider factors such as the helpfulness, relevance, accuracy, depth, creativity,\n",
    "and level of detail of their responses. Begin your evaluation by comparing the two\n",
    "responses and provide a short explanation. Avoid any position biases and ensure that the\n",
    "order in which the responses were presented does not influence your decision. Do not allow\n",
    "the length of the responses to influence your evaluation. Do not favor certain names of\n",
    "the assistants. Be as objective as possible. After providing your explanation, output your\n",
    "final verdict by strictly following this format: \"[[A]]\" if assistant A is better, \"[[B]]\"\n",
    "if assistant B is better, and \"[[C]]\" for a tie.\n",
    "[User Reviews]\n",
    "{reviews}\n",
    "[The Start of Assistant A’s Answer]\n",
    "{answer_a}\n",
    "[The End of Assistant A’s Answer]\n",
    "[The Start of Assistant B’s Answer]\n",
    "{answer_b}\n",
    "[The End of Assistant B’s Answer]\"\"\"\n",
    "\n",
    "    completion = client.chat.completions.create(\n",
    "        model=\"gpt-3.5-turbo\",\n",
    "        messages=[\n",
    "            {\"role\": \"system\", \"content\": eval_prompt}\n",
    "        ],\n",
    "        temperature=0.1\n",
    "    )\n",
    "\n",
    "    return completion"
   ]
  },
  {
   "cell_type": "code",
   "execution_count": 13,
   "id": "1aedc840",
   "metadata": {},
   "outputs": [],
   "source": [
    "# 평가 함수를 여러 번 반복하여 성능 평가\n",
    "def pairwise_eval_batch(reviews, answers_a, answers_b):\n",
    "    a_cnt, b_cnt, draw_cnt = 0, 0, 0\n",
    "    for i in tqdm(range(len(answers_a))):\n",
    "        completion = pairwise_eval(reviews, answers_a[i], answers_b[i])\n",
    "        verdict_text = completion.choices[0].message.content\n",
    "\n",
    "        if '[[A]]' in verdict_text:\n",
    "            a_cnt += 1\n",
    "        elif '[[B]]' in verdict_text:\n",
    "            b_cnt += 1\n",
    "        elif '[[C]]' in verdict_text:\n",
    "            draw_cnt += 1\n",
    "        else:\n",
    "            print(f'Error: {verdict_text}')\n",
    "    return a_cnt, b_cnt, draw_cnt"
   ]
  },
  {
   "cell_type": "code",
   "execution_count": 14,
   "id": "e889da97",
   "metadata": {},
   "outputs": [],
   "source": [
    "result_dict = {\n",
    "    'baseline' : {\"wins\" : 0, \"losses\" : 0, 'ties' : 0},\n",
    "    'improving_prompt' : {\"wins\" : 0, \"losses\" : 0, 'ties' : 0},\n",
    "    'improving_data' : {\"wins\" : 0, \"losses\" : 0, 'ties' : 0},\n",
    "    'one_shot' : {\"wins\" : 0, \"losses\" : 0, 'ties' : 0},\n",
    "    'two_shot' : {\"wins\" : 0, \"losses\" : 0, 'ties' : 0},\n",
    "}"
   ]
  },
  {
   "cell_type": "markdown",
   "id": "29765e85",
   "metadata": {},
   "source": [
    "### Prompt baseline"
   ]
  },
  {
   "cell_type": "code",
   "execution_count": 15,
   "id": "14d9b459",
   "metadata": {},
   "outputs": [],
   "source": [
    "PROMPT_BASELINE = f\"\"\"아래 숙소 리뷰에 대해 5 문장 내로 요약해줘\"\"\""
   ]
  },
  {
   "cell_type": "code",
   "execution_count": 16,
   "id": "9eb3c4b4",
   "metadata": {},
   "outputs": [],
   "source": [
    "summary_real = \"\"\"숙소는 서울 인사동 인근에 위치해 있어 접근성이 뛰어나며, 주변 관광지와의 연계성이 우수합니다. 청결 상태가 양호하고 방음이 비교적 잘 되어 있어 편안한 휴식을 제공합니다. 직원들은 친절하며, 조식과 어메니티도 만족스럽다는 평가가 많습니다. 조각된 뷰와 쾌적한 환경이 장점으로 언급되며, 가족 단위 방문객에게도 적합한 공간으로 보입니다. 전반적으로 시설과 서비스에 대한 긍정적인 후기가 많습니다.\"\"\""
   ]
  },
  {
   "cell_type": "code",
   "execution_count": 17,
   "id": "2a799c9e",
   "metadata": {},
   "outputs": [
    {
     "name": "stderr",
     "output_type": "stream",
     "text": [
      "100%|██████████| 10/10 [00:18<00:00,  1.90s/it]"
     ]
    },
    {
     "name": "stdout",
     "output_type": "stream",
     "text": [
      "Wins: 7, Losses: 3, Ties: 0\n"
     ]
    },
    {
     "name": "stderr",
     "output_type": "stream",
     "text": [
      "\n"
     ]
    }
   ],
   "source": [
    "eval_count = 10\n",
    "summaries = [summarize(reviews, PROMPT_BASELINE, temperature=1.0).choices[0].message.content for _ in range(eval_count)]\n",
    "wins, losses, ties = pairwise_eval_batch(reviews, summaries, [summary_real for _ in range(len(summaries))])\n",
    "print(f'Wins: {wins}, Losses: {losses}, Ties: {ties}') "
   ]
  },
  {
   "cell_type": "code",
   "execution_count": 18,
   "id": "665581b3",
   "metadata": {},
   "outputs": [],
   "source": [
    "result_dict['baseline']['wins'] = wins\n",
    "result_dict['baseline']['losses'] = losses\n",
    "result_dict['baseline']['ties'] = ties"
   ]
  },
  {
   "cell_type": "markdown",
   "id": "6521b8e6",
   "metadata": {},
   "source": [
    "### Prompt 고도화"
   ]
  },
  {
   "cell_type": "code",
   "execution_count": 19,
   "id": "17bbd130",
   "metadata": {},
   "outputs": [],
   "source": [
    "prompt = f\"\"\"당신은 요약 전문가입니다. 사용자 숙소 리뷰들이 주어졌을 때 요약하는 것이 당신의 목표입니다.\n",
    "\n",
    "요약 결과는 다음 조건들을 충족해야 합니다:\n",
    "1. 모든 문장은 항상 존댓말로 끝나야 합니다.\n",
    "2. 숙소에 대해 소개하는 톤앤매너로 작성해주세요.\n",
    "  2-1. 좋은 예시\n",
    "    a) 전반적으로 좋은 숙소였고 방음도 괜찮았다는 평입니다.\n",
    "    b) 재방문 예정이라는 평들이 존재합니다.\n",
    "  2-2. 나쁜 예시\n",
    "    a) 좋은 숙소였고 방음도 괜찮았습니다.\n",
    "    b) 재방문 예정입니다.\n",
    "3. 요약 결과는 최소 2문장, 최대 5문장 사이로 작성해주세요.\n",
    "    \n",
    "아래 숙소 리뷰들에 대해 요약해주세요:\"\"\""
   ]
  },
  {
   "cell_type": "code",
   "execution_count": 20,
   "id": "cce574ae",
   "metadata": {},
   "outputs": [
    {
     "name": "stderr",
     "output_type": "stream",
     "text": [
      " 80%|████████  | 8/10 [00:15<00:04,  2.02s/it]"
     ]
    },
    {
     "name": "stdout",
     "output_type": "stream",
     "text": [
      "Error: Assistant A's response provides a detailed summary of the user reviews, mentioning the convenient location, cleanliness, pleasant atmosphere, good views, friendly staff, and overall satisfaction of the guests. The response also highlights the positive aspects of the accommodation, such as the good breakfast, cleanliness, and quiet environment, indicating a high likelihood of repeat visits. On the other hand, Assistant B's response also covers similar points, emphasizing the excellent accessibility, cleanliness, good soundproofing, friendly staff, satisfactory breakfast, and amenities. Both responses accurately capture the key points from the user reviews and provide a comprehensive overview of the accommodations.\n",
      "\n",
      "However, Assistant A's response stands out for its slightly more detailed and creative language, mentioning specific attractions like 조계사 (Jogyesa Temple) and using phrases like \"쾌적한 환경\" (pleasant environment) and \"재방문 의사\" (intention to revisit). Assistant A's response also includes a closing statement expressing gratitude for the comfortable and peaceful stay, adding a personal touch to the evaluation.\n",
      "\n",
      "Therefore, based on the depth of information, creativity in language use, and the inclusion of a closing statement, I would evaluate that [[Assistant A]] provided a slightly better summary of the user reviews on accommodations.\n"
     ]
    },
    {
     "name": "stderr",
     "output_type": "stream",
     "text": [
      "100%|██████████| 10/10 [00:19<00:00,  1.91s/it]"
     ]
    },
    {
     "name": "stdout",
     "output_type": "stream",
     "text": [
      "Wins: 5, Losses: 4, Ties: 0\n"
     ]
    },
    {
     "name": "stderr",
     "output_type": "stream",
     "text": [
      "\n"
     ]
    }
   ],
   "source": [
    "eval_count = 10\n",
    "summaries = [summarize(reviews, prompt, temperature=1.0).choices[0].message.content for _ in range(eval_count)]\n",
    "wins, losses, ties = pairwise_eval_batch(reviews, summaries, [summary_real for _ in range(len(summaries))])\n",
    "print(f'Wins: {wins}, Losses: {losses}, Ties: {ties}')"
   ]
  },
  {
   "cell_type": "code",
   "execution_count": 21,
   "id": "0e65b225",
   "metadata": {},
   "outputs": [],
   "source": [
    "result_dict['improving_prompt']['wins'] = wins\n",
    "result_dict['improving_prompt']['losses'] = losses\n",
    "result_dict['improving_prompt']['ties'] = ties"
   ]
  },
  {
   "cell_type": "markdown",
   "id": "a94ff111",
   "metadata": {},
   "source": [
    "### 입력 데이터의 품질 증가"
   ]
  },
  {
   "cell_type": "code",
   "execution_count": null,
   "id": "7ae44e32",
   "metadata": {},
   "outputs": [],
   "source": [
    "# 리뷰 데이터 전처리\n",
    "## 글자 수 필터링 추가\n",
    "def preprocess_reviews(path='./res/reviews.json'):\n",
    "    # Json 파일 로드\n",
    "    with open(path, 'r', encoding='utf-8') as f:\n",
    "        review_list = json.load(f)\n",
    "\n",
    "    reviews_good, reviews_bad = [], []\n",
    "\n",
    "    # 6 개월 이전 데이터 필터링\n",
    "    current_date = datetime.datetime.now()\n",
    "    data_boundary = current_date - datetime.timedelta(days=30*6)\n",
    "    filtered_cnt = 0\n",
    "\n",
    "    # Crawling된 리뷰 데이터 기반 전처리\n",
    "    for r in review_list: \n",
    "        review_date_str = r['date']\n",
    "        try:\n",
    "            review_date = parser.parse(review_date_str)\n",
    "        except (ValueError, TypeError):\n",
    "            review_date = current_date\n",
    "\n",
    "        # 날짜 필터링\n",
    "        if review_date < data_boundary:\n",
    "            continue\n",
    "        \n",
    "        # 글자 수 필터링\n",
    "        if len(r['review']) < 30:\n",
    "            filtered_cnt += 1\n",
    "            continue\n",
    "\n",
    "        if r['stars'] == 5:\n",
    "            reviews_good.append('[REVIEW_START]' + r['review'] + '[REVIEW_END]')\n",
    "        else:\n",
    "            reviews_bad.append('[REVIEW_START]' + r['review'] + '[REVIEW_END]')\n",
    "    reviews_good_text = '\\n'.join(reviews_good)\n",
    "    reviews_bad_text = '\\n'.join(reviews_bad)\n",
    "    return reviews_good_text, reviews_bad_text\n"
   ]
  },
  {
   "cell_type": "code",
   "execution_count": 23,
   "id": "682d0603",
   "metadata": {},
   "outputs": [],
   "source": [
    "reviews, _ = preprocess_reviews()"
   ]
  },
  {
   "cell_type": "code",
   "execution_count": 24,
   "id": "989cc809",
   "metadata": {},
   "outputs": [
    {
     "name": "stderr",
     "output_type": "stream",
     "text": [
      "100%|██████████| 10/10 [00:18<00:00,  1.85s/it]"
     ]
    },
    {
     "name": "stdout",
     "output_type": "stream",
     "text": [
      "Wins: 9, Losses: 1, Ties: 0\n"
     ]
    },
    {
     "name": "stderr",
     "output_type": "stream",
     "text": [
      "\n"
     ]
    }
   ],
   "source": [
    "eval_count = 10\n",
    "summaries = [summarize(reviews, prompt, temperature=1.0).choices[0].message.content for _ in range(eval_count)]\n",
    "wins, losses, ties = pairwise_eval_batch(reviews, summaries, [summary_real for _ in range(len(summaries))])\n",
    "print(f'Wins: {wins}, Losses: {losses}, Ties: {ties}')"
   ]
  },
  {
   "cell_type": "code",
   "execution_count": 25,
   "id": "e7cee946",
   "metadata": {},
   "outputs": [],
   "source": [
    "result_dict['improving_data']['wins'] = wins\n",
    "result_dict['improving_data']['losses'] = losses\n",
    "result_dict['improving_data']['ties'] = ties"
   ]
  },
  {
   "cell_type": "markdown",
   "id": "9c907bd3",
   "metadata": {},
   "source": [
    "### Few-Shot Prompting"
   ]
  },
  {
   "cell_type": "markdown",
   "id": "b5fbafa7",
   "metadata": {},
   "source": [
    "#### One-Shot"
   ]
  },
  {
   "cell_type": "code",
   "execution_count": 27,
   "id": "71b2da4d",
   "metadata": {},
   "outputs": [
    {
     "name": "stderr",
     "output_type": "stream",
     "text": [
      "100%|██████████| 10/10 [00:20<00:00,  2.03s/it]"
     ]
    },
    {
     "name": "stdout",
     "output_type": "stream",
     "text": [
      "Wins: 7, Losses: 3, Ties: 0\n"
     ]
    },
    {
     "name": "stderr",
     "output_type": "stream",
     "text": [
      "\n"
     ]
    }
   ],
   "source": [
    "prompt_1shot = f\"\"\"당신은 요약 전문가입니다. 사용자 숙소 리뷰들이 주어졌을 때 요약하는 것이 당신의 목표입니다. 다음은 리뷰들과 요약 예시입니다.\n",
    "예시 리뷰들:\n",
    "{reviews_1shot}\n",
    "예시 요약 결과:\n",
    "{summary_1shot}\n",
    "    \n",
    "아래 숙소 리뷰들에 대해 요약해주세요:\"\"\"\n",
    "\n",
    "summaries = [summarize(reviews, prompt_1shot, temperature=1.0).choices[0].message.content for _ in range(eval_count)]\n",
    "wins, losses, ties = pairwise_eval_batch(reviews, summaries, [summary_real for _ in range(len(summaries))])\n",
    "print(f'Wins: {wins}, Losses: {losses}, Ties: {ties}')"
   ]
  },
  {
   "cell_type": "code",
   "execution_count": 28,
   "id": "99712c80",
   "metadata": {},
   "outputs": [],
   "source": [
    "result_dict['one_shot']['wins'] = wins\n",
    "result_dict['one_shot']['losses'] = losses\n",
    "result_dict['one_shot']['ties'] = ties"
   ]
  },
  {
   "cell_type": "markdown",
   "id": "b018c108",
   "metadata": {},
   "source": [
    "#### Two-Shot"
   ]
  },
  {
   "cell_type": "code",
   "execution_count": 29,
   "id": "ccc61045",
   "metadata": {},
   "outputs": [
    {
     "name": "stderr",
     "output_type": "stream",
     "text": [
      "100%|██████████| 10/10 [00:18<00:00,  1.88s/it]"
     ]
    },
    {
     "name": "stdout",
     "output_type": "stream",
     "text": [
      "Wins: 3, Losses: 7, Ties: 0\n"
     ]
    },
    {
     "name": "stderr",
     "output_type": "stream",
     "text": [
      "\n"
     ]
    }
   ],
   "source": [
    "reviews_1shot, _ = preprocess_reviews('./res/ninetree_pangyo.json')\n",
    "summary_1shot = summarize(reviews_1shot, prompt, temperature=0.0).choices[0].message.content\n",
    "reviews_2shot, _ = preprocess_reviews('./res/ninetree_yongsan.json')\n",
    "summary_2shot = summarize(reviews_2shot, prompt_1shot, temperature=0.0).choices[0].message.content\n",
    "\n",
    "prompt_2shot = f\"\"\"당신은 요약 전문가입니다. 사용자 숙소 리뷰들이 주어졌을 때 요약하는 것이 당신의 목표입니다. 다음은 리뷰들과 요약 예시입니다.\n",
    "\n",
    "예시 리뷰들 1:\n",
    "{reviews_1shot}\n",
    "예시 요약 결과 1:\n",
    "{summary_1shot}\n",
    "\n",
    "예시 리뷰들 2:\n",
    "{reviews_2shot}\n",
    "예시 요약 결과 2:\n",
    "{summary_2shot}\n",
    "    \n",
    "아래 숙소 리뷰들에 대해 요약해주세요:\"\"\"\n",
    "\n",
    "summaries = [summarize(reviews, prompt_2shot, temperature=1.0).choices[0].message.content for _ in range(eval_count)]\n",
    "wins, losses, ties = pairwise_eval_batch(reviews, summaries, [summary_real for _ in range(len(summaries))])\n",
    "print(f'Wins: {wins}, Losses: {losses}, Ties: {ties}')"
   ]
  },
  {
   "cell_type": "code",
   "execution_count": 30,
   "id": "b7c391e0",
   "metadata": {},
   "outputs": [],
   "source": [
    "result_dict['two_shot']['wins'] = wins\n",
    "result_dict['two_shot']['losses'] = losses\n",
    "result_dict['two_shot']['ties'] = ties"
   ]
  },
  {
   "cell_type": "code",
   "execution_count": null,
   "id": "957ee541",
   "metadata": {},
   "outputs": [],
   "source": []
  },
  {
   "cell_type": "markdown",
   "id": "d1386a9e",
   "metadata": {},
   "source": [
    "## 결과 시각화"
   ]
  },
  {
   "cell_type": "code",
   "execution_count": 31,
   "id": "3e11a7e3",
   "metadata": {},
   "outputs": [
    {
     "name": "stdout",
     "output_type": "stream",
     "text": [
      "                  wins  losses  ties\n",
      "baseline             7       3     0\n",
      "improving_prompt     5       4     0\n",
      "improving_data       9       1     0\n",
      "one_shot             7       3     0\n",
      "two_shot             3       7     0\n"
     ]
    }
   ],
   "source": [
    "import pandas as pd\n",
    "\n",
    "df = pd.DataFrame.from_dict(result_dict, orient='index')\n",
    "print(df)"
   ]
  },
  {
   "cell_type": "code",
   "execution_count": null,
   "id": "3a5de24b",
   "metadata": {},
   "outputs": [],
   "source": []
  }
 ],
 "metadata": {
  "kernelspec": {
   "display_name": ".venv (3.13.3)",
   "language": "python",
   "name": "python3"
  },
  "language_info": {
   "codemirror_mode": {
    "name": "ipython",
    "version": 3
   },
   "file_extension": ".py",
   "mimetype": "text/x-python",
   "name": "python",
   "nbconvert_exporter": "python",
   "pygments_lexer": "ipython3",
   "version": "3.13.3"
  }
 },
 "nbformat": 4,
 "nbformat_minor": 5
}
