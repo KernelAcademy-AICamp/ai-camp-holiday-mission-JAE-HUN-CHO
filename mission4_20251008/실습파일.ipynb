{
 "cells": [
  {
   "cell_type": "markdown",
   "id": "6143a193",
   "metadata": {},
   "source": [
    "# 미션 4: 실전 RAG\n",
    "\n",
    "\n",
    "## 🎯 학습 목표\n",
    "\n",
    "이 미션에서는 실전 환경에서 활용 가능한 고급 RAG 시스템을 구현합니다.\n",
    "\n",
    "### 주요 학습 내용\n",
    "- 고급 RAG 기법 (Re-ranking, Hybrid Search 등)\n",
    "- 문서 chunk 최적화\n",
    "- RAG 성능 개선 기법\n",
    "- 실제 서비스에 적용 가능한 RAG 파이프라인\n",
    "\n",
    "\n",
    "## 📝 실습 내용\n",
    "\n",
    "### 구현 기능\n",
    "- 고급 문서 처리 (다양한 포맷 지원)\n",
    "- 효율적인 chunking 전략 구현\n",
    "- Hybrid Search (키워드 + 벡터 검색)\n",
    "- Re-ranking을 통한 검색 품질 향상\n",
    "- 답변 생성 품질 개선\n",
    "- RAG 평가 지표 측정\n",
    "\n",
    "### 사용 기술\n",
    "- Python\n",
    "- LangChain\n",
    "- Advanced Vector Database\n",
    "- Re-ranking Models\n",
    "- Jupyter Notebook\n",
    "\n",
    "\n",
    "### LLM\n",
    "- gpt-4.1-nano\n",
    "- rerank-english-v3.0"
   ]
  },
  {
   "cell_type": "markdown",
   "id": "c4d6441a",
   "metadata": {},
   "source": [
    "## 라이브러리 로드 & 데이터 다운로드"
   ]
  },
  {
   "cell_type": "code",
   "execution_count": 1,
   "id": "4770aced",
   "metadata": {},
   "outputs": [],
   "source": [
    "import numpy as np\n",
    "import bs4\n",
    "import re\n",
    "import os\n",
    "import pandas as pd\n",
    "import time\n",
    "\n",
    "from openai import OpenAI\n",
    "from dotenv import load_dotenv\n",
    "\n",
    "from datasets import Dataset \n",
    "from ragas import evaluate\n",
    "from ragas.metrics import Faithfulness, AnswerCorrectness, ContextRelevance, ContextRecall, ContextPrecision\n",
    "from langchain.text_splitter import RecursiveCharacterTextSplitter\n",
    "from langchain.embeddings import OpenAIEmbeddings\n",
    "\n",
    "from langchain_community.document_loaders import DirectoryLoader, TextLoader, CSVLoader\n",
    "from langchain.vectorstores import FAISS\n",
    "\n",
    "from langchain.retrievers import EnsembleRetriever \n",
    "from langchain_community.retrievers import BM25Retriever  \n",
    "from langchain.retrievers import ContextualCompressionRetriever\n",
    "from langchain.retrievers.document_compressors import CohereRerank\n",
    "from langchain.chains import RetrievalQA\n",
    "from langchain.chat_models import ChatOpenAI\n",
    "from langchain_core.documents import Document\n",
    "from langchain.schema import Document\n",
    "from huggingface_hub import snapshot_download"
   ]
  },
  {
   "cell_type": "code",
   "execution_count": 2,
   "id": "d4d91753",
   "metadata": {},
   "outputs": [],
   "source": [
    "load_dotenv()\n",
    "\n",
    "OPENAI_API_KEY = os.environ['OPENAI_API_KEY']"
   ]
  },
  {
   "cell_type": "code",
   "execution_count": 3,
   "id": "46e578cf",
   "metadata": {},
   "outputs": [
    {
     "name": "stderr",
     "output_type": "stream",
     "text": [
      "Returning existing local_dir `res/rag-ko` as remote repo cannot be accessed in `snapshot_download` (504 Server Error: Gateway Time-out for url: https://huggingface.co/api/datasets/allganize/rag-ko/revision/main).\n"
     ]
    },
    {
     "data": {
      "text/plain": [
       "'/home/user/Desktop/Camp/holiday-mission_조재훈/mission4_20251008/res/rag-ko'"
      ]
     },
     "execution_count": 3,
     "metadata": {},
     "output_type": "execute_result"
    }
   ],
   "source": [
    "\n",
    "snapshot_download(\n",
    "    repo_id='allganize/rag-ko',\n",
    "    repo_type='dataset',\n",
    "    local_dir='./res/rag-ko',\n",
    "    local_dir_use_symlinks=False\n",
    ")"
   ]
  },
  {
   "cell_type": "code",
   "execution_count": 4,
   "id": "bc231a75",
   "metadata": {},
   "outputs": [],
   "source": [
    "df = pd.read_parquet('./res/rag-ko/data/test-00000-of-00001.parquet')"
   ]
  },
  {
   "cell_type": "code",
   "execution_count": 5,
   "id": "86cb5bef",
   "metadata": {},
   "outputs": [
    {
     "data": {
      "text/html": [
       "<div>\n",
       "<style scoped>\n",
       "    .dataframe tbody tr th:only-of-type {\n",
       "        vertical-align: middle;\n",
       "    }\n",
       "\n",
       "    .dataframe tbody tr th {\n",
       "        vertical-align: top;\n",
       "    }\n",
       "\n",
       "    .dataframe thead th {\n",
       "        text-align: right;\n",
       "    }\n",
       "</style>\n",
       "<table border=\"1\" class=\"dataframe\">\n",
       "  <thead>\n",
       "    <tr style=\"text-align: right;\">\n",
       "      <th></th>\n",
       "      <th>index</th>\n",
       "      <th>system</th>\n",
       "      <th>human</th>\n",
       "      <th>answer</th>\n",
       "      <th>answer_position</th>\n",
       "      <th>answer_context_title</th>\n",
       "      <th>answer_context_summary</th>\n",
       "    </tr>\n",
       "  </thead>\n",
       "  <tbody>\n",
       "    <tr>\n",
       "      <th>0</th>\n",
       "      <td>0</td>\n",
       "      <td>You are a financial expert.\\nYou are fluent at...</td>\n",
       "      <td>글로벌 저금리 현상이 부각된 원인은 무엇인가요?</td>\n",
       "      <td>글로벌 저금리 현상이 부각된 원인은 여러 가지입니다. 첫째, 2008년 글로벌 금융...</td>\n",
       "      <td>3</td>\n",
       "      <td>132579145651725164_KIFRT2021-02 (2)</td>\n",
       "      <td>2. 뉴노멀의 도래(신 3저의 도래)\\n최근 코로나 사태를 포함하여 2008년 글로...</td>\n",
       "    </tr>\n",
       "    <tr>\n",
       "      <th>1</th>\n",
       "      <td>1</td>\n",
       "      <td>You are a financial expert.\\nYou are fluent at...</td>\n",
       "      <td>고수익-고위험 부문으로의 쏠림현상에 대해 설명해주세요.</td>\n",
       "      <td>고수익-고위험 부문으로의 쏠림현상은 투자자들이 더 높은 수익률을 추구하기 위해 위험...</td>\n",
       "      <td>2</td>\n",
       "      <td>132579145651725164_KIFRT2021-02 (2)</td>\n",
       "      <td>축소되어 자산운용의 어려움이 가중\\n∙ 투자자 입장에서는 원하는 수익률을 얻기 어려...</td>\n",
       "    </tr>\n",
       "    <tr>\n",
       "      <th>2</th>\n",
       "      <td>2</td>\n",
       "      <td>You are a financial expert.\\nYou are fluent at...</td>\n",
       "      <td>20세기 이후 디지털화의 진전이 금융투자업의 사업모형과 산업구조에 어떤 영향을 미쳤...</td>\n",
       "      <td>20세기 이후 디지털화의 진전은 금융투자업의 사업모형과 산업구조에 큰 영향을 미쳤습...</td>\n",
       "      <td>1</td>\n",
       "      <td>132579145651725164_KIFRT2021-02 (2)</td>\n",
       "      <td>1. 디지털화의 진전과 금융투자업의 변화 : 20세기 이후\\n가. 1950~60년대...</td>\n",
       "    </tr>\n",
       "    <tr>\n",
       "      <th>3</th>\n",
       "      <td>3</td>\n",
       "      <td>You are a financial expert.\\nYou are fluent at...</td>\n",
       "      <td>2000년대 이후 글로벌 IB들이 어떤 전략을 추진하였나요?</td>\n",
       "      <td>2000년대 이후 글로벌 IB들은 스스로 전산화를 추진하였으며, 이와 밀접하게 연관...</td>\n",
       "      <td>3</td>\n",
       "      <td>132579145651725164_KIFRT2021-02 (2)</td>\n",
       "      <td>∙ 또한, 투자은행의 명성에 의존하는 대표적인 업무인 IPO, M&amp;A\\n등도 전산화...</td>\n",
       "    </tr>\n",
       "    <tr>\n",
       "      <th>4</th>\n",
       "      <td>4</td>\n",
       "      <td>You are a financial expert.\\nYou are fluent at...</td>\n",
       "      <td>금융시스템 개혁법은 언제 제정되었나요?</td>\n",
       "      <td>금융시스템 개혁법은 1998년에 제정되었습니다.</td>\n",
       "      <td>3</td>\n",
       "      <td>132579145651725164_KIFRT2021-02 (2)</td>\n",
       "      <td>및 일본 내 해외투자 수요를 포용하는데 적극적\\n일련의 변화과정에서 일본 금융당국의...</td>\n",
       "    </tr>\n",
       "  </tbody>\n",
       "</table>\n",
       "</div>"
      ],
      "text/plain": [
       "   index                                             system  \\\n",
       "0      0  You are a financial expert.\\nYou are fluent at...   \n",
       "1      1  You are a financial expert.\\nYou are fluent at...   \n",
       "2      2  You are a financial expert.\\nYou are fluent at...   \n",
       "3      3  You are a financial expert.\\nYou are fluent at...   \n",
       "4      4  You are a financial expert.\\nYou are fluent at...   \n",
       "\n",
       "                                               human  \\\n",
       "0                         글로벌 저금리 현상이 부각된 원인은 무엇인가요?   \n",
       "1                     고수익-고위험 부문으로의 쏠림현상에 대해 설명해주세요.   \n",
       "2  20세기 이후 디지털화의 진전이 금융투자업의 사업모형과 산업구조에 어떤 영향을 미쳤...   \n",
       "3                  2000년대 이후 글로벌 IB들이 어떤 전략을 추진하였나요?   \n",
       "4                              금융시스템 개혁법은 언제 제정되었나요?   \n",
       "\n",
       "                                              answer  answer_position  \\\n",
       "0  글로벌 저금리 현상이 부각된 원인은 여러 가지입니다. 첫째, 2008년 글로벌 금융...                3   \n",
       "1  고수익-고위험 부문으로의 쏠림현상은 투자자들이 더 높은 수익률을 추구하기 위해 위험...                2   \n",
       "2  20세기 이후 디지털화의 진전은 금융투자업의 사업모형과 산업구조에 큰 영향을 미쳤습...                1   \n",
       "3  2000년대 이후 글로벌 IB들은 스스로 전산화를 추진하였으며, 이와 밀접하게 연관...                3   \n",
       "4                         금융시스템 개혁법은 1998년에 제정되었습니다.                3   \n",
       "\n",
       "                  answer_context_title  \\\n",
       "0  132579145651725164_KIFRT2021-02 (2)   \n",
       "1  132579145651725164_KIFRT2021-02 (2)   \n",
       "2  132579145651725164_KIFRT2021-02 (2)   \n",
       "3  132579145651725164_KIFRT2021-02 (2)   \n",
       "4  132579145651725164_KIFRT2021-02 (2)   \n",
       "\n",
       "                              answer_context_summary  \n",
       "0  2. 뉴노멀의 도래(신 3저의 도래)\\n최근 코로나 사태를 포함하여 2008년 글로...  \n",
       "1  축소되어 자산운용의 어려움이 가중\\n∙ 투자자 입장에서는 원하는 수익률을 얻기 어려...  \n",
       "2  1. 디지털화의 진전과 금융투자업의 변화 : 20세기 이후\\n가. 1950~60년대...  \n",
       "3  ∙ 또한, 투자은행의 명성에 의존하는 대표적인 업무인 IPO, M&A\\n등도 전산화...  \n",
       "4  및 일본 내 해외투자 수요를 포용하는데 적극적\\n일련의 변화과정에서 일본 금융당국의...  "
      ]
     },
     "execution_count": 5,
     "metadata": {},
     "output_type": "execute_result"
    }
   ],
   "source": [
    "df.head(5)"
   ]
  },
  {
   "cell_type": "code",
   "execution_count": null,
   "id": "34c3df43",
   "metadata": {},
   "outputs": [],
   "source": []
  },
  {
   "cell_type": "markdown",
   "id": "cf58b8bc",
   "metadata": {},
   "source": [
    "## 고급 문서 처리"
   ]
  },
  {
   "cell_type": "code",
   "execution_count": 6,
   "id": "d8430501",
   "metadata": {},
   "outputs": [],
   "source": [
    "def parquet_system_loader(path):\n",
    "    df = pd.read_parquet(path)\n",
    "    return [Document(page_content=row['system']) for _, row in df.iterrows()]\n",
    "\n",
    "def extract_contexts(system_prompt):\n",
    "    context_match = re.search(r'CONTEXT=\"\"\"\\n(.*?)\"\"\"', system_prompt, re.DOTALL)\n",
    "    if not context_match:\n",
    "        return []\n",
    "\n",
    "    context_text = context_match.group(1)\n",
    "\n",
    "    contexts = re.findall(r'\\(context \\d+\\)=(.*?)(?=\\n\\(context \\d+\\)=|\\Z)', context_text, re.DOTALL)\n",
    "\n",
    "    cleaned_contexts = ['']\n",
    "    for context in contexts:\n",
    "        lines = context.split('\\n')\n",
    "        cleaned_lines = [line for line in lines if not line.strip().startswith('Title:')]\n",
    "        cleaned_context = '\\n'.join(cleaned_lines).strip()\n",
    "        cleaned_contexts.append(cleaned_context)\n",
    "\n",
    "    return cleaned_contexts\n",
    "\n",
    "docs = parquet_system_loader(\"./res/rag-ko/data/test-00000-of-00001.parquet\")\n"
   ]
  },
  {
   "cell_type": "code",
   "execution_count": 7,
   "id": "ef1bcd65",
   "metadata": {},
   "outputs": [],
   "source": [
    "questions = df['human'].values[:10]\n",
    "answers = df['answer'].values[:10]\n",
    "answers_contexts = [extract_contexts(data[1])[int(data[4])] for data in df.values[:10]]"
   ]
  },
  {
   "cell_type": "code",
   "execution_count": 8,
   "id": "1409ca58",
   "metadata": {},
   "outputs": [],
   "source": [
    "docs = [Document(page_content=text)  for data in df.values for text in extract_contexts(data[1])[1:] ] "
   ]
  },
  {
   "cell_type": "code",
   "execution_count": null,
   "id": "69fddab4",
   "metadata": {},
   "outputs": [],
   "source": []
  },
  {
   "cell_type": "markdown",
   "id": "a82119b8",
   "metadata": {},
   "source": [
    "## 효율적인 chunking 전략 구현"
   ]
  },
  {
   "cell_type": "code",
   "execution_count": 9,
   "id": "8a9a64dd",
   "metadata": {},
   "outputs": [],
   "source": [
    "chunk_size = 100\n",
    "chunk_overlap = 10"
   ]
  },
  {
   "cell_type": "code",
   "execution_count": 10,
   "id": "176c690e",
   "metadata": {},
   "outputs": [],
   "source": [
    "r_splitter = RecursiveCharacterTextSplitter(\n",
    "    chunk_size=chunk_size,\n",
    "    chunk_overlap=chunk_overlap\n",
    ")"
   ]
  },
  {
   "cell_type": "code",
   "execution_count": 11,
   "id": "c82b2f33",
   "metadata": {},
   "outputs": [],
   "source": [
    "chunked_docs = r_splitter.split_documents(docs)"
   ]
  },
  {
   "cell_type": "code",
   "execution_count": 12,
   "id": "ad5e2f31",
   "metadata": {},
   "outputs": [
    {
     "name": "stderr",
     "output_type": "stream",
     "text": [
      "/tmp/ipykernel_1144943/872031162.py:1: LangChainDeprecationWarning: The class `OpenAIEmbeddings` was deprecated in LangChain 0.0.9 and will be removed in 1.0. An updated version of the class exists in the :class:`~langchain-openai package and should be used instead. To use it run `pip install -U :class:`~langchain-openai` and import as `from :class:`~langchain_openai import OpenAIEmbeddings``.\n",
      "  embeddings_model = OpenAIEmbeddings(model=\"text-embedding-3-small\")\n"
     ]
    }
   ],
   "source": [
    "embeddings_model = OpenAIEmbeddings(model=\"text-embedding-3-small\")\n",
    "faiss_embedded = FAISS.from_documents(documents=chunked_docs, embedding=embeddings_model)"
   ]
  },
  {
   "cell_type": "code",
   "execution_count": null,
   "id": "d6caebcc",
   "metadata": {},
   "outputs": [],
   "source": []
  },
  {
   "cell_type": "markdown",
   "id": "5932f2dd",
   "metadata": {},
   "source": [
    "## Hybrid Search"
   ]
  },
  {
   "cell_type": "code",
   "execution_count": 13,
   "id": "e97db86c",
   "metadata": {},
   "outputs": [],
   "source": [
    "faiss_retriver = faiss_embedded.as_retriever(search_kwargs={\"k\": 2})\n",
    "bm25_retriver = BM25Retriever.from_documents(documents=chunked_docs, k=2)\n",
    "ensemble_retriver = EnsembleRetriever(\n",
    "    retrievers=[bm25_retriver, faiss_retriver], weights=[0.5, 0.5]\n",
    ")"
   ]
  },
  {
   "cell_type": "code",
   "execution_count": 14,
   "id": "d902933c",
   "metadata": {},
   "outputs": [
    {
     "name": "stderr",
     "output_type": "stream",
     "text": [
      "/tmp/ipykernel_1144943/3554958061.py:2: LangChainDeprecationWarning: The method `BaseRetriever.get_relevant_documents` was deprecated in langchain-core 0.1.46 and will be removed in 1.0. Use :meth:`~invoke` instead.\n",
      "  ensemble_result = ensemble_retriver.get_relevant_documents(query)\n"
     ]
    }
   ],
   "source": [
    "query = questions[0]\n",
    "ensemble_result = ensemble_retriver.get_relevant_documents(query)\n",
    "bm25_result = bm25_retriver.get_relevant_documents(query)\n",
    "faiss_result = faiss_retriver.get_relevant_documents(query)\n",
    "result = {\n",
    "    'bm25' : bm25_result,\n",
    "    'faiss' : faiss_result,\n",
    "    'ensemble' : ensemble_result\n",
    "}\n"
   ]
  },
  {
   "cell_type": "code",
   "execution_count": 15,
   "id": "36a58e36",
   "metadata": {},
   "outputs": [
    {
     "data": {
      "text/plain": [
       "{'bm25': [Document(metadata={}, page_content='∙ 글로벌 금융위기를 극복하는 과정에서 미국, 유럽, 일본 등 주요국의\\n완화적 통화정책으로 글로벌 저금리 현상이 부각'),\n",
       "  Document(metadata={}, page_content='등 우리나라의 저금리 기조도 장기화될 가능성이 높아 보인다. 저금리, 저성장이 세간에 부각된 것은 2008년 글로벌 금융위기 이후 극복하')],\n",
       " 'faiss': [Document(id='ac14e7d6-779a-4e7e-9557-262529c74738', metadata={}, page_content='∙ 글로벌 금융위기를 극복하는 과정에서 미국, 유럽, 일본 등 주요국의\\n완화적 통화정책으로 글로벌 저금리 현상이 부각'),\n",
       "  Document(id='03a75885-8c16-44cd-9b6d-5cdf192d69da', metadata={}, page_content='저금리·저성장 상황이 이어지고 있다. 글로벌 금융위기를 극복하는 과정에서\\n미국, 유럽, 일본 등 주요국의 완화적 통화정책으로 글로벌 저금리 현상이')],\n",
       " 'ensemble': [Document(metadata={}, page_content='∙ 글로벌 금융위기를 극복하는 과정에서 미국, 유럽, 일본 등 주요국의\\n완화적 통화정책으로 글로벌 저금리 현상이 부각'),\n",
       "  Document(metadata={}, page_content='등 우리나라의 저금리 기조도 장기화될 가능성이 높아 보인다. 저금리, 저성장이 세간에 부각된 것은 2008년 글로벌 금융위기 이후 극복하'),\n",
       "  Document(id='03a75885-8c16-44cd-9b6d-5cdf192d69da', metadata={}, page_content='저금리·저성장 상황이 이어지고 있다. 글로벌 금융위기를 극복하는 과정에서\\n미국, 유럽, 일본 등 주요국의 완화적 통화정책으로 글로벌 저금리 현상이')]}"
      ]
     },
     "execution_count": 15,
     "metadata": {},
     "output_type": "execute_result"
    }
   ],
   "source": [
    "result"
   ]
  },
  {
   "cell_type": "code",
   "execution_count": null,
   "id": "0e50c8b4",
   "metadata": {},
   "outputs": [],
   "source": []
  },
  {
   "cell_type": "markdown",
   "id": "8fbee256",
   "metadata": {},
   "source": [
    "## Re-ranking을 통한 검색 품질 향상"
   ]
  },
  {
   "cell_type": "code",
   "execution_count": 16,
   "id": "9d922b10",
   "metadata": {},
   "outputs": [
    {
     "name": "stderr",
     "output_type": "stream",
     "text": [
      "/tmp/ipykernel_1144943/3976518952.py:1: LangChainDeprecationWarning: The class `CohereRerank` was deprecated in LangChain 0.0.30 and will be removed in 1.0. An updated version of the class exists in the :class:`~langchain-cohere package and should be used instead. To use it run `pip install -U :class:`~langchain-cohere` and import as `from :class:`~langchain_cohere import CohereRerank``.\n",
      "  compressor = CohereRerank(model=\"rerank-english-v3.0\")\n"
     ]
    }
   ],
   "source": [
    "compressor = CohereRerank(model=\"rerank-english-v3.0\")"
   ]
  },
  {
   "cell_type": "code",
   "execution_count": 17,
   "id": "e2ad74ee",
   "metadata": {},
   "outputs": [],
   "source": [
    "query = \"AI가 뭐야?\"\n",
    "\n",
    "compressor = CohereRerank(model=\"rerank-english-v3.0\", top_n=5)\n",
    "ensemble_compression_retriever = ContextualCompressionRetriever(\n",
    "base_compressor=compressor, base_retriever=ensemble_retriver\n",
    ")\n",
    "\n",
    "time.sleep(5)\n",
    "compressor = CohereRerank(model=\"rerank-english-v3.0\", top_n=5)\n",
    "bm25_compression_retriever = ContextualCompressionRetriever(\n",
    "    base_compressor=compressor, base_retriever=bm25_retriver\n",
    ")\n",
    "time.sleep(5)\n",
    "\n",
    "compressor = CohereRerank(model=\"rerank-english-v3.0\", top_n=5)\n",
    "faiss_compression_retriever = ContextualCompressionRetriever(\n",
    "    \n",
    "    base_compressor=compressor, base_retriever=faiss_retriver\n",
    ")\n",
    "time.sleep(5)\n",
    "\n",
    "\n",
    "result['bm25_compress'] = bm25_compression_retriever.get_relevant_documents(query)\n",
    "time.sleep(15)\n",
    "\n",
    "result['faiss_compress'] = faiss_compression_retriever.get_relevant_documents(query)\n",
    "time.sleep(15)\n",
    "\n",
    "result['ensemble_compress'] = ensemble_compression_retriever.get_relevant_documents(query)\n",
    "time.sleep(15)\n"
   ]
  },
  {
   "cell_type": "code",
   "execution_count": null,
   "id": "98cc9c85",
   "metadata": {},
   "outputs": [],
   "source": []
  },
  {
   "cell_type": "markdown",
   "id": "38623528",
   "metadata": {},
   "source": [
    "## 답변 생성 품질 개선"
   ]
  },
  {
   "cell_type": "code",
   "execution_count": 18,
   "id": "90b3ba79",
   "metadata": {},
   "outputs": [],
   "source": [
    "llm_rag_result = {\n",
    "    'result' : [],\n",
    "    'context' : [],\n",
    "\n",
    "}"
   ]
  },
  {
   "cell_type": "code",
   "execution_count": 19,
   "id": "bb4eaae9",
   "metadata": {},
   "outputs": [],
   "source": [
    "retriever_list = [\n",
    "    faiss_retriver, \n",
    "    bm25_retriver, \n",
    "    ensemble_retriver, \n",
    "    faiss_compression_retriever, \n",
    "    bm25_compression_retriever, \n",
    "    ensemble_compression_retriever\n",
    "]\n",
    "name_list = [\n",
    "    'faiss_retriver', \n",
    "    'bm25_retriver', \n",
    "    'ensemble_retriver', \n",
    "    'faiss_compression_retriever', \n",
    "    'bm25_compression_retriever', \n",
    "    'ensemble_compression_retriever'\n",
    "]"
   ]
  },
  {
   "cell_type": "code",
   "execution_count": 20,
   "id": "641959e1",
   "metadata": {},
   "outputs": [
    {
     "name": "stderr",
     "output_type": "stream",
     "text": [
      "/tmp/ipykernel_1144943/2710589527.py:3: LangChainDeprecationWarning: The class `ChatOpenAI` was deprecated in LangChain 0.0.10 and will be removed in 1.0. An updated version of the class exists in the :class:`~langchain-openai package and should be used instead. To use it run `pip install -U :class:`~langchain-openai` and import as `from :class:`~langchain_openai import ChatOpenAI``.\n",
      "  llm = ChatOpenAI(model=\"gpt-4.1-nano\")\n",
      "/tmp/ipykernel_1144943/2710589527.py:12: LangChainDeprecationWarning: The method `Chain.__call__` was deprecated in langchain 0.1.0 and will be removed in 1.0. Use :meth:`~invoke` instead.\n",
      "  answer = qa(question)\n"
     ]
    }
   ],
   "source": [
    "for retriever in retriever_list:\n",
    "\n",
    "    llm = ChatOpenAI(model=\"gpt-4.1-nano\")\n",
    "\n",
    "    qa = RetrievalQA.from_chain_type(llm=llm,\n",
    "                                        chain_type=\"stuff\",\n",
    "                                        retriever=retriever,\n",
    "                                        return_source_documents = True)\n",
    "    predictions = []\n",
    "    contexts = []\n",
    "    for question in questions:\n",
    "        answer = qa(question)\n",
    "        time.sleep(15)\n",
    "        predictions.append(answer['result'])\n",
    "        contexts.append([source.page_content for source in answer['source_documents']])\n",
    "    llm_rag_result['result'].append(predictions)\n",
    "    llm_rag_result['context'].append(contexts)\n"
   ]
  },
  {
   "cell_type": "code",
   "execution_count": 21,
   "id": "505b6329",
   "metadata": {},
   "outputs": [
    {
     "name": "stdout",
     "output_type": "stream",
     "text": [
      "글로벌 저금리 현상이 부각된 원인은 무엇인가요?\n",
      "faiss_retriver : 글로벌 저금리 현상이 부각된 원인은 글로벌 금융위기를 극복하는 과정에서 미국, 유럽, 일본 등 주요국들이 완화적 통화정책을 시행했기 때문입니다. 이러한 정책으로 인해 글로벌 금융 시장에 유동성이 풍부해지고, 금리 인하가 지속되면서 저금리 환경이 형성되었습니다.\n",
      "\n",
      "***************\n",
      "\n",
      "bm25_retriver : 글로벌 저금리 현상이 부각된 원인은 2008년 글로벌 금융위기 이후 주요국들이 경제 회복을 지원하기 위해 완화적 통화정책을 펼친 데 있으며, 이로 인해 저금리 기조가 장기화되었기 때문입니다.\n",
      "\n",
      "***************\n",
      "\n",
      "ensemble_retriver : 글로벌 저금리 현상이 부각된 원인은 2008년 글로벌 금융위기를 극복하는 과정에서 미국, 유럽, 일본 등 주요국이 완화적 통화정책을 시행했기 때문입니다. 이를 통해 경기 부양과 금융시장 안정화를 도모했으며, 이러한 정책들이 장기적으로 글로벌 저금리 환경을 형성하게 되었습니다.\n",
      "\n",
      "***************\n",
      "\n",
      "faiss_compression_retriever : 글로벌 저금리 현상이 부각된 원인은 글로벌 금융위기를 극복하는 과정에서 미국, 유럽, 일본 등 주요국들이 완화적 통화정책을 펼쳤기 때문입니다. 이러한 정책으로 인해 글로벌 금융 환경이 저금리 기조로 전환되면서 저금리·저성장 상황이 이어지고 있습니다.\n",
      "\n",
      "***************\n",
      "\n",
      "bm25_compression_retriever : 글로벌 저금리 현상이 부각된 원인은 2008년 글로벌 금융위기 이후 주요국들이 완화적 통화정책을 펼친 데 있습니다. 미국, 유럽, 일본 등 주요국들이 경기 부양을 위해 금리를 낮추면서 장기적으로 저금리 기조가 지속되었고, 이로 인해 글로벌 저금리 현상이 두드러지게 되었습니다.\n",
      "\n",
      "***************\n",
      "\n",
      "ensemble_compression_retriever : 글로벌 저금리 현상이 부각된 원인은 2008년 글로벌 금융위기 이후 미국, 유럽, 일본 등 주요국들이 완화적 통화정책을 추진하면서입니다. 이러한 정책으로 인해 글로벌 금융시장에 유동성이 풍부해지고, 저금리 환경이 지속되면서 저금리 현상이 부각되었습니다.\n",
      "\n",
      "***************\n",
      "\n",
      "---------------\n",
      "---------------\n",
      "고수익-고위험 부문으로의 쏠림현상에 대해 설명해주세요.\n",
      "faiss_retriver : 고수익-고위험 부문으로의 쏠림현상은 투자자들이 높은 수익을 기대하며 위험이 큰 자산이나 시장 부문으로 자금을 집중하는 현상을 말합니다. 이러한 현상은 대개 시장의 불확실성이나 금리 변화, 경제 환경의 변화 등에 따라 발생하며, 투자자들이 더 높은 수익을 추구하면서 동시에 높은 위험을 감수하는 경향이 강해집니다. 이로 인해 일부 부문이나 자산군이 과도하게 부풀거나 변동성이 커질 수 있으며, 시장 전체의 안정성에 영향을 미칠 수 있습니다.\n",
      "\n",
      "***************\n",
      "\n",
      "bm25_retriver : 고수익-고위험 부문으로의 쏠림현상은 투자자들이 높은 수익을 기대하며 위험이 더 큰 자산이나 시장 부문으로 자금을 집중하는 현상을 말합니다. 이러한 현상은 시장의 기대수익률이 높아지고, 투자자들이 단기적인 수익을 추구하면서 나타날 수 있으며, 동시에 위험 수준도 높아지기 때문에 시장의 변동성이 커지고 불안정성을 초래할 수 있습니다.\n",
      "\n",
      "***************\n",
      "\n",
      "ensemble_retriver : 고수익-고위험 부문으로의 쏠림현상은 투자자들이 높은 수익을 기대하며 위험이 큰 자산이나 시장으로 투자하는 경향을 의미합니다. 이는 시장에서 수익률이 높을 것으로 예상될 때, 더 많은 투자자들이 위험이 높은 자산에 몰리면서 발생하는 현상입니다. 이러한 현상은 일시적일 수 있지만, 과도하게 집중될 경우 시장 변동성을 키우거나 버블 형성의 우려도 있습니다.\n",
      "\n",
      "***************\n",
      "\n",
      "faiss_compression_retriever : 고수익-고위험 부문으로의 쏠림현상은 투자자들이 높은 수익을 기대하면서도 그만큼 위험이 큰 투자처로 자금을 몰아가는 현상을 말합니다. 이러한 현상은 일반적으로 시장이 호황일 때 나타나며, 투자자들이 더 높은 수익률을 추구하는 과정에서 위험을 감수하는 경향이 강해집니다. 예를 들어, 신생 벤처 기업이나 신기술 관련 자산, 레버리지 상품 등에 투자하는 것이 이에 해당할 수 있습니다. 그러나 이러한 투자 전략은 잠재적 손실 위험도 크기 때문에, 시장 변화나 예상치 못한 변수에 따른 손실 가능성도 함께 높아집니다.\n",
      "\n",
      "***************\n",
      "\n",
      "bm25_compression_retriever : 고수익-고위험 부문으로의 쏠림 현상은 투자자들이 높은 수익률을 기대하며 위험이 큰 투자 분야로 자금을 집중하는 경향을 의미합니다. 이러한 현상은 시장의 변동성이 커지고, 수익률이 높아 보이는 자산에 대한 수요가 증가할 때 나타납니다. 그러나 동시에 위험도 크기 때문에, 시장이 예상치 못한 방향으로 움직일 경우 큰 손실이 발생할 수 있습니다.\n",
      "\n",
      "***************\n",
      "\n",
      "ensemble_compression_retriever : 고수익-고위험 부문으로의 쏠림현상은 투자자들이 높은 수익률을 기대할 수 있는 자산이나 시장으로 자금을 이동시키는 경향을 의미합니다. 이러한 현상은 종종 시장의 기대심리, 금리 변화, 또는 경제 전망이 개선될 때 나타납니다. 그러나 동시에 높은 수익을 추구하는 만큼 위험도 함께 커지기 때문에, 시장 변동성이나 예기치 않은 사건에 따른 손실 가능성도 높아지게 됩니다.\n",
      "\n",
      "***************\n",
      "\n",
      "---------------\n",
      "---------------\n"
     ]
    }
   ],
   "source": [
    "for i in range(len(questions[:2])):\n",
    "    print(questions[i])\n",
    "\n",
    "    for name, result in zip(name_list, llm_rag_result['result']):\n",
    "        print(f\"{name} : {result[i]}\")\n",
    "        print()\n",
    "        print('*'*15)\n",
    "        print()\n",
    "\n",
    "    \n",
    "    print('-'*15)\n",
    "    print('-'*15)\n"
   ]
  },
  {
   "cell_type": "markdown",
   "id": "c0cbe7f7",
   "metadata": {},
   "source": [
    "## RAG 평가 지표 측정"
   ]
  },
  {
   "cell_type": "code",
   "execution_count": 29,
   "id": "c02b3ecb",
   "metadata": {},
   "outputs": [
    {
     "data": {
      "application/vnd.jupyter.widget-view+json": {
       "model_id": "088caae731434c74bdaa8ced1b88df7a",
       "version_major": 2,
       "version_minor": 0
      },
      "text/plain": [
       "Evaluating:   0%|          | 0/50 [00:00<?, ?it/s]"
      ]
     },
     "metadata": {},
     "output_type": "display_data"
    },
    {
     "data": {
      "application/vnd.jupyter.widget-view+json": {
       "model_id": "2c89010019c04c8fa20ee4a617def043",
       "version_major": 2,
       "version_minor": 0
      },
      "text/plain": [
       "Evaluating:   0%|          | 0/50 [00:00<?, ?it/s]"
      ]
     },
     "metadata": {},
     "output_type": "display_data"
    },
    {
     "data": {
      "application/vnd.jupyter.widget-view+json": {
       "model_id": "20503422deac40e4b8dccf04aac48ba5",
       "version_major": 2,
       "version_minor": 0
      },
      "text/plain": [
       "Evaluating:   0%|          | 0/50 [00:00<?, ?it/s]"
      ]
     },
     "metadata": {},
     "output_type": "display_data"
    },
    {
     "data": {
      "application/vnd.jupyter.widget-view+json": {
       "model_id": "e6198d07e2eb4a288ece0d1350d4a1a6",
       "version_major": 2,
       "version_minor": 0
      },
      "text/plain": [
       "Evaluating:   0%|          | 0/50 [00:00<?, ?it/s]"
      ]
     },
     "metadata": {},
     "output_type": "display_data"
    },
    {
     "data": {
      "application/vnd.jupyter.widget-view+json": {
       "model_id": "c5694b88c78b421c8001457930d23788",
       "version_major": 2,
       "version_minor": 0
      },
      "text/plain": [
       "Evaluating:   0%|          | 0/50 [00:00<?, ?it/s]"
      ]
     },
     "metadata": {},
     "output_type": "display_data"
    },
    {
     "data": {
      "application/vnd.jupyter.widget-view+json": {
       "model_id": "677f0aa8d82f440b8f0d1d53b354b606",
       "version_major": 2,
       "version_minor": 0
      },
      "text/plain": [
       "Evaluating:   0%|          | 0/50 [00:00<?, ?it/s]"
      ]
     },
     "metadata": {},
     "output_type": "display_data"
    }
   ],
   "source": [
    "evaluate_dict = {\n",
    "    'Faithfulness' : [], 'ContextRelevance' : [], \"AnswerCorrectness\": [], 'ContextRecall': [], 'ContextPrecision': []\n",
    "}\n",
    "\n",
    "for predictions, contexts_predictions in zip(llm_rag_result['result'], llm_rag_result['context']):\n",
    "\n",
    "    data_samples = {\n",
    "        'question': questions,\n",
    "        'answer': predictions,\n",
    "        'contexts' : contexts_predictions,\n",
    "        'ground_truth' : answers\n",
    "\n",
    "    }\n",
    "\n",
    "    dataset = Dataset.from_dict(data_samples)\n",
    "\n",
    "    score = evaluate(dataset, metrics=[Faithfulness(),  ContextRelevance(), AnswerCorrectness(), ContextRecall(), ContextPrecision()])\n",
    "    evaluate_dict['Faithfulness'].append(score['faithfulness'])\n",
    "    evaluate_dict['ContextRelevance'].append(score['nv_context_relevance'])\n",
    "    evaluate_dict['AnswerCorrectness'].append(score['nv_context_relevance'])\n",
    "    evaluate_dict['ContextRecall'].append(score['nv_context_relevance'])\n",
    "    evaluate_dict['ContextPrecision'].append(score['nv_context_relevance'])"
   ]
  },
  {
   "cell_type": "code",
   "execution_count": 38,
   "id": "a3556ea1",
   "metadata": {},
   "outputs": [
    {
     "name": "stdout",
     "output_type": "stream",
     "text": [
      "+--------------------------------+---------------+------------------+-------------------+---------------+------------------+\n",
      "|           Retriever            |  Faithfulness | ContextRelevance | AnswerCorrectness | ContextRecall | ContextPrecision |\n",
      "+--------------------------------+---------------+------------------+-------------------+---------------+------------------+\n",
      "|         faiss_retriver         | \u001b[91m0.777 ± 0.335\u001b[0m |  0.775 ± 0.343   |   0.775 ± 0.343   | 0.775 ± 0.343 |  0.775 ± 0.343   |\n",
      "|         bm25_retriver          | 0.583 ± 0.375 |   0.85 ± 0.337   |    0.85 ± 0.337   |  0.85 ± 0.337 |   0.85 ± 0.337   |\n",
      "|       ensemble_retriver        | 0.724 ± 0.269 |    \u001b[91m1.0 ± 0.0\u001b[0m     |     \u001b[91m1.0 ± 0.0\u001b[0m     |   \u001b[91m1.0 ± 0.0\u001b[0m   |    \u001b[91m1.0 ± 0.0\u001b[0m     |\n",
      "|  faiss_compression_retriever   | 0.718 ± 0.333 |  0.775 ± 0.343   |   0.775 ± 0.343   | 0.775 ± 0.343 |  0.775 ± 0.343   |\n",
      "|   bm25_compression_retriever   | 0.504 ± 0.425 |   0.85 ± 0.337   |    0.85 ± 0.337   |  0.85 ± 0.337 |   0.85 ± 0.337   |\n",
      "| ensemble_compression_retriever | \u001b[94m0.777 ± 0.273\u001b[0m |   \u001b[94m0.95 ± 0.158\u001b[0m   |    \u001b[94m0.95 ± 0.158\u001b[0m   |  \u001b[94m0.95 ± 0.158\u001b[0m |   \u001b[94m0.95 ± 0.158\u001b[0m   |\n",
      "+--------------------------------+---------------+------------------+-------------------+---------------+------------------+\n"
     ]
    }
   ],
   "source": [
    "from prettytable import PrettyTable\n",
    "# --- 1. mean과 std 계산 ---\n",
    "summary_data = {}\n",
    "for metric, values in evaluate_dict.items():\n",
    "    df = pd.DataFrame(values, index=name_list)\n",
    "    summary_data[metric + \"_mean\"] = df.mean(axis=1)\n",
    "    summary_data[metric + \"_std\"] = df.std(axis=1)\n",
    "\n",
    "summary_df = pd.DataFrame(summary_data)\n",
    "summary_df = summary_df.round(3)\n",
    "\n",
    "# --- 2. mean ± std 문자열로 병합 ---\n",
    "merged_df = pd.DataFrame(index=name_list)\n",
    "for metric in evaluate_dict.keys():\n",
    "    merged_df[metric] = summary_df[metric + \"_mean\"].astype(str) + \" ± \" + summary_df[metric + \"_std\"].astype(str)\n",
    "\n",
    "# --- 3. 색상 강조 처리 ---\n",
    "colored_df = merged_df.copy()\n",
    "\n",
    "for metric in evaluate_dict.keys():\n",
    "    # 해당 지표의 mean 값 기준으로 정렬\n",
    "    metric_mean = summary_df[metric + \"_mean\"]\n",
    "    sorted_idx = metric_mean.sort_values(ascending=False).index\n",
    "\n",
    "    top1, top2 = sorted_idx[0], sorted_idx[1]\n",
    "    for retriever in name_list:\n",
    "        value = merged_df.loc[retriever, metric]\n",
    "        if retriever == top1:\n",
    "            colored_df.loc[retriever, metric] = f\"\\033[91m{value}\\033[0m\"  # red\n",
    "        elif retriever == top2:\n",
    "            colored_df.loc[retriever, metric] = f\"\\033[94m{value}\\033[0m\"  # blue\n",
    "        else:\n",
    "            colored_df.loc[retriever, metric] = value\n",
    "\n",
    "# --- 4. PrettyTable 출력 ---\n",
    "table = PrettyTable()\n",
    "table.field_names = [\"Retriever\"] + list(evaluate_dict.keys())\n",
    "\n",
    "for retriever in name_list:\n",
    "    row = [retriever] + [colored_df.loc[retriever, m] for m in evaluate_dict.keys()]\n",
    "    table.add_row(row)\n",
    "\n",
    "print(table)"
   ]
  },
  {
   "cell_type": "code",
   "execution_count": null,
   "id": "764162ee",
   "metadata": {},
   "outputs": [],
   "source": []
  }
 ],
 "metadata": {
  "kernelspec": {
   "display_name": ".venv (3.13.3)",
   "language": "python",
   "name": "python3"
  },
  "language_info": {
   "codemirror_mode": {
    "name": "ipython",
    "version": 3
   },
   "file_extension": ".py",
   "mimetype": "text/x-python",
   "name": "python",
   "nbconvert_exporter": "python",
   "pygments_lexer": "ipython3",
   "version": "3.13.3"
  }
 },
 "nbformat": 4,
 "nbformat_minor": 5
}
